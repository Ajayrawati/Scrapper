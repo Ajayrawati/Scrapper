{
 "cells": [
  {
   "cell_type": "code",
   "execution_count": 5,
   "metadata": {},
   "outputs": [
    {
     "name": "stdout",
     "output_type": "stream",
     "text": [
      "batman\n"
     ]
    }
   ],
   "source": [
    "import requests\n",
    "from bs4 import BeautifulSoup\n",
    "import json\n",
    "\n",
    "query = input(\"Enter movie name\")\n",
    "query = query.replace(\" \",\"%20\")\n",
    "print(query)\n",
    "# URL for IMDb search results\n",
    "url = f\"https://www.imdb.com/find/?q={query}\"\n",
    "headers = {\n",
    "    'User-Agent': 'Mozilla/5.0 (Windows NT 10.0; Win64; x64) AppleWebKit/537.36 (KHTML, like Gecko) Chrome/91.0.4472.124 Safari/537.36'\n",
    "}\n",
    "response = requests.get(url, headers=headers)\n",
    "\n",
    "# Parse the HTML\n",
    "soup = BeautifulSoup(response.content, 'html.parser')\n",
    "\n",
    "# Extract relevant section\n",
    "results_section = soup.find('section', class_='ipc-page-section ipc-page-section--base sc-b03627f1-0 dOfhDK')\n",
    "\n",
    "\n",
    "results_section\n",
    "# # Find all result items\n",
    "results = results_section.find_all('li', class_='ipc-metadata-list-summary-item')\n",
    "results\n",
    "\n",
    "# Iterate through results and extract details\n",
    "extracted_data = []\n",
    "for result in results:\n",
    "    title_tag = result.find('a', class_='ipc-metadata-list-summary-item__t')\n",
    "    year_tag = result.find('span', class_='ipc-metadata-list-summary-item__li')\n",
    "    actors_tag = result.find('ul', class_='ipc-inline-list ipc-inline-list--show-dividers ipc-inline-list--no-wrap ipc-inline-list--inline ipc-metadata-list-summary-item__stl base')\n",
    "\n",
    "    actors = \", \".join([li.text for li in actors_tag.find_all('li')]) if actors_tag else \"Unknown\"\n",
    "    year = year_tag.text if year_tag else \"Unknown\"\n",
    "    title = title_tag.text\n",
    "    url = title_tag.get('href')\n",
    "    nextUrl = format_imdb_url(url)\n",
    "    description = extract(nextUrl)\n",
    "    extracted_data.append({\n",
    "                'title': title,\n",
    "                'url': nextUrl,\n",
    "                'year': year,\n",
    "                'actors': actors,\n",
    "                'description':description\n",
    "            })\n",
    "   \n",
    "    \n",
    "    \n",
    "with open(\"imdb_results.json\", \"a\") as json_file:\n",
    "    json.dump(extracted_data, json_file, indent=4)\n",
    "\n",
    "    "
   ]
  },
  {
   "cell_type": "code",
   "execution_count": 3,
   "metadata": {},
   "outputs": [],
   "source": [
    "def format_imdb_url(url):\n",
    "   \n",
    "    # Trim everything after '?' if present\n",
    "    trimmed_url = url.split('?')[0]\n",
    "    # Add prefix if not present\n",
    "    if not trimmed_url.startswith(\"https://www.imdb.com/\"):\n",
    "        trimmed_url = \"https://www.imdb.com/\" + trimmed_url\n",
    "    return trimmed_url\n",
    "\n",
    "\n"
   ]
  },
  {
   "cell_type": "code",
   "execution_count": 4,
   "metadata": {},
   "outputs": [],
   "source": [
    "\n",
    "def extract(url):\n",
    "    headers = {\n",
    "        'User-Agent': 'Mozilla/5.0 (Windows NT 10.0; Win64; x64) AppleWebKit/537.36 (KHTML, like Gecko) Chrome/91.0.4472.124 Safari/537.36'\n",
    "    }\n",
    "    response = requests.get(url=url, headers=headers)\n",
    "    soup = BeautifulSoup(response.content, 'html.parser')\n",
    "    \n",
    "    # Find all script tags of type 'application/ld+json'\n",
    "    json_ld_data = soup.find_all('script', type=\"application/ld+json\")\n",
    "    \n",
    "    # Extract and return the JSON-LD data from the first script tag (if available)\n",
    "    if json_ld_data:\n",
    "        return json.loads(json_ld_data[0].string)\n",
    "    return None\n"
   ]
  },
  {
   "cell_type": "code",
   "execution_count": null,
   "metadata": {},
   "outputs": [],
   "source": []
  }
 ],
 "metadata": {
  "kernelspec": {
   "display_name": "Scrapper",
   "language": "python",
   "name": "python3"
  },
  "language_info": {
   "codemirror_mode": {
    "name": "ipython",
    "version": 3
   },
   "file_extension": ".py",
   "mimetype": "text/x-python",
   "name": "python",
   "nbconvert_exporter": "python",
   "pygments_lexer": "ipython3",
   "version": "3.12.4"
  }
 },
 "nbformat": 4,
 "nbformat_minor": 2
}
