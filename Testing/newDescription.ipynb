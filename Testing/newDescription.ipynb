{
 "cells": [
  {
   "cell_type": "code",
   "execution_count": null,
   "metadata": {},
   "outputs": [],
   "source": [
    "import json\n",
    "with open('movieData.json', 'r', encoding='utf-8') as file:\n",
    "    data = json.load(file)\n",
    "\n",
    "\n",
    "\n",
    "import requests\n",
    "from bs4 import BeautifulSoup\n",
    "def extract(url):\n",
    "    headers = {\n",
    "        'User-Agent': 'Mozilla/5.0 (Windows NT 10.0; Win64; x64) AppleWebKit/537.36 (KHTML, like Gecko) Chrome/91.0.4472.124 Safari/537.36'\n",
    "    }\n",
    "    response = requests.get(url=url, headers=headers)\n",
    "    soup = BeautifulSoup(response.content, 'html.parser')\n",
    "    return soup\n",
    "\n",
    "for i in range(0,250):\n",
    "    temp = extract(data[i]['item']['url'])\n",
    "    temp = temp.find_all('script',type=\"application/ld+json\")\n",
    "\n"
   ]
  },
  {
   "cell_type": "code",
   "execution_count": 18,
   "metadata": {},
   "outputs": [
    {
     "name": "stdout",
     "output_type": "stream",
     "text": [
      "Extracted data has been saved to 'extracted_movie_data.json'.\n"
     ]
    }
   ],
   "source": [
    "import json\n",
    "import requests\n",
    "from bs4 import BeautifulSoup\n",
    "\n",
    "# Load the movie data from the existing JSON file\n",
    "with open('movieData.json', 'r', encoding='utf-8') as file:\n",
    "    data = json.load(file)\n",
    "\n",
    "# Function to extract JSON-LD data from a URL\n",
    "def extract(url):\n",
    "    headers = {\n",
    "        'User-Agent': 'Mozilla/5.0 (Windows NT 10.0; Win64; x64) AppleWebKit/537.36 (KHTML, like Gecko) Chrome/91.0.4472.124 Safari/537.36'\n",
    "    }\n",
    "    response = requests.get(url=url, headers=headers)\n",
    "    soup = BeautifulSoup(response.content, 'html.parser')\n",
    "    \n",
    "    # Find all script tags of type 'application/ld+json'\n",
    "    json_ld_data = soup.find_all('script', type=\"application/ld+json\")\n",
    "    \n",
    "    # Extract and return the JSON-LD data from the first script tag (if available)\n",
    "    if json_ld_data:\n",
    "        return json.loads(json_ld_data[0].string)\n",
    "    return None\n",
    "\n",
    "# List to store all extracted JSON-LD data\n",
    "all_json_ld_data = []\n",
    "\n",
    "# Loop through the data (adjust the range if needed)\n",
    "for i in range(0, 250):\n",
    "    url = data[i]['item']['url']\n",
    "    extracted_data = extract(url)\n",
    "    \n",
    "    # If data was successfully extracted, append it to the list\n",
    "    if extracted_data:\n",
    "        all_json_ld_data.append(extracted_data)\n",
    "\n",
    "# Save or append the extracted data to a new JSON file\n",
    "with open('extracted_movie_data.json', 'w', encoding='utf-8') as output_file:\n",
    "    json.dump(all_json_ld_data, output_file, indent=4, ensure_ascii=False)\n",
    "\n",
    "print(f\"Extracted data has been saved to 'extracted_movie_data.json'.\")\n"
   ]
  },
  {
   "cell_type": "code",
   "execution_count": null,
   "metadata": {},
   "outputs": [],
   "source": []
  },
  {
   "cell_type": "code",
   "execution_count": null,
   "metadata": {},
   "outputs": [],
   "source": []
  }
 ],
 "metadata": {
  "kernelspec": {
   "display_name": "Scrapper",
   "language": "python",
   "name": "python3"
  },
  "language_info": {
   "codemirror_mode": {
    "name": "ipython",
    "version": 3
   },
   "file_extension": ".py",
   "mimetype": "text/x-python",
   "name": "python",
   "nbconvert_exporter": "python",
   "pygments_lexer": "ipython3",
   "version": "3.12.4"
  }
 },
 "nbformat": 4,
 "nbformat_minor": 2
}
